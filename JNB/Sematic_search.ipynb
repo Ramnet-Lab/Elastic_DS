{
 "cells": [
  {
   "cell_type": "code",
   "execution_count": 6,
   "id": "a7e7523c-1b69-4541-ba24-084cb6c531a2",
   "metadata": {},
   "outputs": [
    {
     "name": "stdout",
     "output_type": "stream",
     "text": [
      "✅ Loaded data from output.csv\n",
      "Initializing Sentence Transformer model...\n",
      "Computing embeddings for messages (this may take a minute)...\n"
     ]
    },
    {
     "data": {
      "application/vnd.jupyter.widget-view+json": {
       "model_id": "98da4370831f4980875d5bb7959876f2",
       "version_major": 2,
       "version_minor": 0
      },
      "text/plain": [
       "Batches:   0%|          | 0/851 [00:00<?, ?it/s]"
      ]
     },
     "metadata": {},
     "output_type": "display_data"
    },
    {
     "name": "stdout",
     "output_type": "stream",
     "text": [
      "\n",
      "Computing embedding for query: 'login authentication failure sudo user'\n",
      "\n",
      "--- Top 10 Messages Related to {query} ---\n",
      "\n",
      "1. Similarity: 0.4465 | Message: 2025-02-24T19:23:30.363751-08:00 elastic-Standard-PC-i440FX-PIIX-1996 gdm-password]: pam_unix(gdm-password:auth): authentication failure; logname= uid=0 euid=0 tty=/dev/tty1 ruser= rhost=  user=elastic\n",
      "\n",
      "2. Similarity: 0.4426 | Message: 2024-08-27 15:37:31 status half-configured sudo:amd64 1.9.15p5-3ubuntu5\n",
      "\n",
      "3. Similarity: 0.4304 | Message: 2025-02-04T04:40:26.340731+00:00 elastic-Standard-PC-i440FX-PIIX-1996 gdm-password]: message repeated 2 times: [ pam_unix(gdm-password:auth): authentication failure; logname=elastic uid=0 euid=0 tty=/dev/tty1 ruser= rhost=  user=elastic]\n",
      "\n",
      "4. Similarity: 0.4232 | Message: Setting up sudo (1.9.15p5-3ubuntu5) ...\n",
      "\n",
      "5. Similarity: 0.4194 | Message: 2024-08-27 15:37:22 configure adduser:all 3.137ubuntu1 3.137ubuntu1\n",
      "\n",
      "6. Similarity: 0.4101 | Message: 2024-08-27 15:37:29 status unpacked sudo:amd64 1.9.15p5-3ubuntu5\n",
      "\n",
      "7. Similarity: 0.4092 | Message: 2024-08-27 15:37:31 status unpacked sudo:amd64 1.9.15p5-3ubuntu5\n",
      "\n",
      "8. Similarity: 0.4051 | Message: 2024-08-27 15:37:29 status half-installed sudo:amd64 1.9.15p5-3ubuntu5\n",
      "\n",
      "9. Similarity: 0.4024 | Message: 2025-02-24T19:26:56.200520-08:00 elastic-Standard-PC-i440FX-PIIX-1996 sudo: pam_unix(sudo:session): session closed for user root\n",
      "\n",
      "10. Similarity: 0.4015 | Message: 2025-02-04T04:40:20.532818+00:00 elastic-Standard-PC-i440FX-PIIX-1996 gdm-password]: pam_unix(gdm-password:auth): authentication failure; logname=elastic uid=0 euid=0 tty=/dev/tty1 ruser= rhost=  user=elastic\n",
      "\n"
     ]
    }
   ],
   "source": [
    "import pandas as pd\n",
    "import numpy as np\n",
    "from sentence_transformers import SentenceTransformer\n",
    "\n",
    "def main():\n",
    "    # ---------- Step 1: Load the Data ----------\n",
    "    csv_file = \"output.csv\"  # Change to your CSV file if needed\n",
    "    try:\n",
    "        df = pd.read_csv(csv_file)\n",
    "        print(f\"✅ Loaded data from {csv_file}\")\n",
    "    except Exception as e:\n",
    "        print(f\"❌ Error loading {csv_file}: {e}\")\n",
    "        exit(1)\n",
    "\n",
    "    if \"message\" not in df.columns:\n",
    "        print(\"❌ Error: 'message' column not found in the CSV.\")\n",
    "        exit(1)\n",
    "\n",
    "    # Ensure messages are strings and remove missing values.\n",
    "    messages = df[\"message\"].dropna().astype(str).tolist()\n",
    "\n",
    "    # ---------- Step 2: Initialize the Sentence Transformer Model ----------\n",
    "    print(\"Initializing Sentence Transformer model...\")\n",
    "    model = SentenceTransformer(\"all-MiniLM-L6-v2\")  # A lightweight, effective model\n",
    "\n",
    "    # ---------- Step 3: Compute Embeddings for Each Message ----------\n",
    "    print(\"Computing embeddings for messages (this may take a minute)...\")\n",
    "    message_embeddings = model.encode(messages, show_progress_bar=True)\n",
    "\n",
    "    # ---------- Step 4: Define the Query and Compute Its Embedding ----------\n",
    "    # You can adjust the query string as needed.\n",
    "    query = \"login authentication failure sudo user\"\n",
    "    print(f\"\\nComputing embedding for query: '{query}'\")\n",
    "    query_embedding = model.encode([query])[0]\n",
    "\n",
    "    # ---------- Step 5: Compute Cosine Similarity ----------\n",
    "    # Convert embeddings to numpy arrays.\n",
    "    message_embeddings = np.array(message_embeddings)\n",
    "    query_embedding = np.array(query_embedding)\n",
    "\n",
    "    # Compute cosine similarity between the query and each message.\n",
    "    dot_products = np.dot(message_embeddings, query_embedding)\n",
    "    message_norms = np.linalg.norm(message_embeddings, axis=1)\n",
    "    query_norm = np.linalg.norm(query_embedding)\n",
    "    cosine_similarities = dot_products / (message_norms * query_norm)\n",
    "\n",
    "    # ---------- Step 6: Retrieve and Display Top 10 Most Similar Messages ----------\n",
    "    top_n = 10\n",
    "    top_indices = np.argsort(cosine_similarities)[::-1][:top_n]\n",
    "\n",
    "    print(\"\\n--- Top 10 Messages Related to {query} ---\\n\")\n",
    "    for rank, idx in enumerate(top_indices, start=1):\n",
    "        sim_score = cosine_similarities[idx]\n",
    "        msg = messages[idx]\n",
    "        print(f\"{rank}. Similarity: {sim_score:.4f} | Message: {msg}\\n\")\n",
    "\n",
    "if __name__ == \"__main__\":\n",
    "    main()\n"
   ]
  }
 ],
 "metadata": {
  "kernelspec": {
   "display_name": "Python 3 (ipykernel)",
   "language": "python",
   "name": "python3"
  },
  "language_info": {
   "codemirror_mode": {
    "name": "ipython",
    "version": 3
   },
   "file_extension": ".py",
   "mimetype": "text/x-python",
   "name": "python",
   "nbconvert_exporter": "python",
   "pygments_lexer": "ipython3",
   "version": "3.12.8"
  }
 },
 "nbformat": 4,
 "nbformat_minor": 5
}
